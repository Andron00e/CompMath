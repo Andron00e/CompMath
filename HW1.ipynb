{
  "nbformat": 4,
  "nbformat_minor": 0,
  "metadata": {
    "colab": {
      "provenance": []
    },
    "kernelspec": {
      "name": "python3",
      "display_name": "Python 3"
    },
    "language_info": {
      "name": "python"
    }
  },
  "cells": [
    {
      "cell_type": "markdown",
      "source": [
        "$\\large{Упр\\,1\\,Numpy}$"
      ],
      "metadata": {
        "id": "Rq8x7c2I7RNm"
      }
    },
    {
      "cell_type": "markdown",
      "source": [
        "1.1"
      ],
      "metadata": {
        "id": "DexDjkM984OW"
      }
    },
    {
      "cell_type": "code",
      "execution_count": null,
      "metadata": {
        "colab": {
          "base_uri": "https://localhost:8080/"
        },
        "id": "g1GlKOF30Hpz",
        "outputId": "ef66200c-a63e-430c-d351-c60d2c0ce956"
      },
      "outputs": [
        {
          "output_type": "stream",
          "name": "stdout",
          "text": [
            "[[0 0 4 2 1 2 2 1 1 2]\n",
            " [4 2 1 2 4 1 1 2 1 3]\n",
            " [4 3 2 3 2 4 0 3 1 2]\n",
            " [3 4 2 3 0 0 4 0 3 0]]\n"
          ]
        }
      ],
      "source": [
        "import numpy as np\n",
        "\n",
        "a = np.random.randint(5, size = (4, 4))\n",
        "b = np.random.randint(5, size = (4, 6))\n",
        "c = np.hstack((a, b))\n",
        "print(c) "
      ]
    },
    {
      "cell_type": "markdown",
      "source": [
        "1.2"
      ],
      "metadata": {
        "id": "MrVdR8tU-A17"
      }
    },
    {
      "cell_type": "code",
      "source": [
        "M = np.random.randint(10, size = (4, 4))\n",
        "print(M)\n",
        "a = np.random.randint(5, size = 3)\n",
        "print(a)\n",
        "b = np.random.randint(5, size = 3)\n",
        "print(b)\n",
        "\n",
        "print(np.array(M[a, b]))"
      ],
      "metadata": {
        "colab": {
          "base_uri": "https://localhost:8080/"
        },
        "id": "-nt6T1tP9idH",
        "outputId": "896700fd-4a23-475d-815f-93a6c764a7e4"
      },
      "execution_count": null,
      "outputs": [
        {
          "output_type": "stream",
          "name": "stdout",
          "text": [
            "[[4 0 0 8]\n",
            " [7 3 7 6]\n",
            " [0 5 2 4]\n",
            " [2 7 5 3]]\n",
            "[1 1 1]\n",
            "[0 0 2]\n",
            "[7 7 7]\n"
          ]
        }
      ]
    },
    {
      "cell_type": "markdown",
      "source": [
        "1.3"
      ],
      "metadata": {
        "id": "JGjOD3NbAyPi"
      }
    },
    {
      "cell_type": "code",
      "source": [
        "A = np.random.randint(5, size = (3, 3))\n",
        "print(A)\n",
        "print(np.trace(A))\n",
        "print(np.count_nonzero(np.diagonal(A)))"
      ],
      "metadata": {
        "colab": {
          "base_uri": "https://localhost:8080/"
        },
        "id": "xRGrjoaQ_bZv",
        "outputId": "fb3307e8-286c-4a9c-ab37-9e0c5edabd7a"
      },
      "execution_count": null,
      "outputs": [
        {
          "output_type": "stream",
          "name": "stdout",
          "text": [
            "[[1 3 2]\n",
            " [3 0 3]\n",
            " [4 3 0]]\n",
            "1\n",
            "1\n"
          ]
        }
      ]
    },
    {
      "cell_type": "markdown",
      "source": [
        "$\\large{Упр\\,2\\,Matplotlib}$"
      ],
      "metadata": {
        "id": "aYlHuHY8D7aJ"
      }
    },
    {
      "cell_type": "markdown",
      "source": [
        "2.2"
      ],
      "metadata": {
        "id": "Rbq0N_J5EEaI"
      }
    },
    {
      "cell_type": "code",
      "source": [
        "import matplotlib.pyplot as plt\n",
        "x = np.array([1, 2, 3, 4, 5])\n",
        "plt.xlabel('h')\n",
        "y = np.array([0.99, 0.49, 0.35, 0.253, 0.18])\n",
        "plt.ylabel('p')\n",
        "plt.errorbar(x, y, xerr=0.05, yerr=0.1)\n",
        "plt.grid()\n",
        "plt.show()"
      ],
      "metadata": {
        "colab": {
          "base_uri": "https://localhost:8080/",
          "height": 279
        },
        "id": "KaFET33sBpoy",
        "outputId": "937af457-d272-45a6-ef4f-2c84d7374ae6"
      },
      "execution_count": null,
      "outputs": [
        {
          "output_type": "display_data",
          "data": {
            "text/plain": [
              "<Figure size 432x288 with 1 Axes>"
            ],
            "image/png": "[encoded data removed]"
          },
          "metadata": {
            "needs_background": "light"
          }
        }
      ]
    },
    {
      "cell_type": "markdown",
      "source": [
        "2.3"
      ],
      "metadata": {
        "id": "AdcGu9kWGb9h"
      }
    },
    {
      "cell_type": "code",
      "source": [
        "plt.loglog(x, y)\n",
        "plt.show"
      ],
      "metadata": {
        "colab": {
          "base_uri": "https://localhost:8080/",
          "height": 287
        },
        "id": "GsyuDVsqGa98",
        "outputId": "801f9360-6f09-415e-ec08-276afb859a9f"
      },
      "execution_count": null,
      "outputs": [
        {
          "output_type": "execute_result",
          "data": {
            "text/plain": [
              "<function matplotlib.pyplot.show(*args, **kw)>"
            ]
          },
          "metadata": {},
          "execution_count": 29
        },
        {
          "output_type": "display_data",
          "data": {
            "text/plain": [
              "<Figure size 432x288 with 1 Axes>"
            ],
            "image/png": "[encoded data removed]"
          },
          "metadata": {
            "needs_background": "light"
          }
        }
      ]
    },
    {
      "cell_type": "markdown",
      "source": [
        "$\\large{Упр\\,3\\,Вигнеровский\\,полукруг}$"
      ],
      "metadata": {
        "id": "nCJQM4MpImFU"
      }
    },
    {
      "cell_type": "code",
      "source": [
        "N = 1000\n",
        "V = np.random.normal(size = (N,N))\n",
        "SymV = V + V.T\n",
        "eighs, _ = np.linalg.eigh(SymV)\n",
        "plt.hist(eighs, bins = 50, color = 'red')\n",
        "plt.xlabel(\"eigenvalues\")\n",
        "plt.ylabel(\"N\")\n",
        "plt.show()"
      ],
      "metadata": {
        "colab": {
          "base_uri": "https://localhost:8080/",
          "height": 279
        },
        "id": "eEI_6sEsIlxC",
        "outputId": "7ea93d12-5860-4426-8e8b-038932f5a7cd"
      },
      "execution_count": null,
      "outputs": [
        {
          "output_type": "display_data",
          "data": {
            "text/plain": [
              "<Figure size 432x288 with 1 Axes>"
            ],
            "image/png": "[encoded data removed]"
          },
          "metadata": {
            "needs_background": "light"
          }
        }
      ]
    },
    {
      "cell_type": "code",
      "source": [
        "N = 500\n",
        "V = np.random.normal(size=(N, N));\n",
        "SymV = V + V.T\n",
        "eighs, _ = np.linalg.eig(SymV)\n",
        "y, _ = np.histogram(eighs, bins)\n",
        "eighs_final = [y]\n",
        "for i in range (50):\n",
        "  V = np.random.normal(size = (N,N))\n",
        "  SymV = V + V.T\n",
        "  eighs, _ = np.linalg.eigh(SymV)\n",
        "  bins = np.linspace(-60, 60, 50+1)\n",
        "  y, _ = np.histogram(eighs, bins)\n",
        "  eighs_final = np.concatenate((eighs_final,[y]),0)\n",
        "mean = np.mean(eighs_final, 0)\n",
        "error = np.std(eighs_final, 0)\n",
        "plt.errorbar(centers, mean, yerr = error, color = 'blue')\n",
        "plt.title(\"Вигнеровский полукруг\")\n",
        "plt.show()"
      ],
      "metadata": {
        "colab": {
          "base_uri": "https://localhost:8080/",
          "height": 281
        },
        "id": "Md20fCFfQAcP",
        "outputId": "bab70b37-1a57-4d88-e0e1-d0369c6f0c68"
      },
      "execution_count": null,
      "outputs": [
        {
          "output_type": "display_data",
          "data": {
            "text/plain": [
              "<Figure size 432x288 with 1 Axes>"
            ],
            "image/png": "[encoded data removed]"
          },
          "metadata": {
            "needs_background": "light"
          }
        }
      ]
    }
  ]
}